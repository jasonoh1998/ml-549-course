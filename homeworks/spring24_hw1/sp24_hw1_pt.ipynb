{
  "cells": [
    {
      "cell_type": "markdown",
      "metadata": {
        "id": "NANpGTwhnlTB"
      },
      "source": [
        "# CS/DS 549 Spring 2023 Programming and Model Training Assignment"
      ]
    },
    {
      "cell_type": "markdown",
      "metadata": {
        "id": "FBQ-4GyjnlTC"
      },
      "source": [
        "<a href=\"https://colab.research.google.com/github/BU-Spark/ml-549-course/blob/main/homeworks/spring24_hw1/sp24_hw1_pt.ipynb\" target=\"_blank\"><img src=\"https://colab.research.google.com/assets/colab-badge.png\" alt=\"Open In Colab\"/></a>"
      ]
    },
    {
      "cell_type": "markdown",
      "metadata": {
        "id": "UDoaWe1vnlTD"
      },
      "source": [
        "## Introduction"
      ]
    },
    {
      "cell_type": "markdown",
      "metadata": {
        "id": "P5flQ_pVnlTD"
      },
      "source": [
        "The goal of this assignment is to train an image classifier on the CIFAR10\n",
        "dataset. CIFAR10 is a \"toy\" dataset in that it only has 10 classes and image\n",
        "resolution of 32x32x3. There are 50K training images and 10K test images.\n",
        "\n",
        "Your task is to define a _neural network model_ and _training\n",
        "hyperparameters_ to reach a __minimum validation accuracy\n",
        "of 60%__.\n",
        "\n",
        "The code below is fully functional albeit a simple model with basic hyperparameters.\n",
        "Update the model and hyperparameters to get the validation accuracy above the\n",
        "minimum.\n",
        "\n",
        "The parts of the code you need to change are indicated by the delimiters:\n",
        "\n",
        "```python\n",
        "### BEGIN SOLUTION\n",
        "<your code>\n",
        "### END SOLUTION\n",
        "```\n",
        "\n",
        "Aspects you may want to experiment with are:\n",
        "1. Deeper and more complex models.\n",
        "2. Different training optimizers.\n",
        "3. Hyperparameters like batch_size and epochs.\n",
        "\n",
        "If you really want get more sophisticated, but not necessary, you can attempt\n",
        "1. pre-training on a larger dataset and transfer learning\n",
        "2. additional input image augmentations.\n",
        "\n",
        "The following are **prohibited**, however:\n",
        "1. Loading a predefined model.\n",
        "2. Using a pre-trained model.\n",
        "\n",
        "You can run this notebook locally on your computer, on SCC or on Google Colab,\n",
        "with the proper setup."
      ]
    },
    {
      "cell_type": "code",
      "execution_count": null,
      "metadata": {
        "id": "4shzXq9HnlTD"
      },
      "outputs": [],
      "source": [
        "# The pip install command below is ensure install in Google Colab"
      ]
    },
    {
      "cell_type": "code",
      "execution_count": null,
      "metadata": {
        "colab": {
          "base_uri": "https://localhost:8080/"
        },
        "id": "f-pvclx6nlTE",
        "outputId": "748394b1-ccad-43de-f8d6-7e6d2490247f"
      },
      "outputs": [
        {
          "output_type": "stream",
          "name": "stdout",
          "text": [
            "Collecting torchinfo\n",
            "  Using cached torchinfo-1.8.0-py3-none-any.whl (23 kB)\n",
            "Installing collected packages: torchinfo\n",
            "Successfully installed torchinfo-1.8.0\n"
          ]
        }
      ],
      "source": [
        "pip install torchinfo"
      ]
    },
    {
      "cell_type": "code",
      "execution_count": null,
      "metadata": {
        "id": "ytcOHglZnlTE"
      },
      "outputs": [],
      "source": [
        "# Import necessary libraries\n",
        "import torch\n",
        "import torch.nn as nn\n",
        "import torch.nn.functional as F\n",
        "import torch.optim as optim\n",
        "from torch.utils.data import DataLoader\n",
        "from torchvision import datasets, transforms\n",
        "\n",
        "from torchinfo import summary\n",
        "\n",
        "import matplotlib.pyplot as plt"
      ]
    },
    {
      "cell_type": "markdown",
      "metadata": {
        "id": "tgHlkl9ynlTE"
      },
      "source": [
        "## Load the Dataset"
      ]
    },
    {
      "cell_type": "code",
      "execution_count": null,
      "metadata": {
        "colab": {
          "base_uri": "https://localhost:8080/"
        },
        "id": "u6-XXC_DnlTE",
        "outputId": "d19d41c4-4f06-42ae-c8a3-3b7a042813a9"
      },
      "outputs": [
        {
          "output_type": "stream",
          "name": "stdout",
          "text": [
            "Files already downloaded and verified\n",
            "Files already downloaded and verified\n"
          ]
        }
      ],
      "source": [
        "# Load the CIFAR-10 dataset\n",
        "transform = transforms.Compose(\n",
        "    [transforms.ToTensor(),\n",
        "     transforms.Normalize((0.5, 0.5, 0.5), (0.5, 0.5, 0.5))])\n",
        "\n",
        "### BEGIN SOLUTION\n",
        "batch_size = 50\n",
        "### END SOLUTION\n",
        "\n",
        "trainset = datasets.CIFAR10(root='./data', train=True, download=True, transform=transform)\n",
        "trainloader = DataLoader(trainset, batch_size=batch_size, shuffle=True, num_workers=2)\n",
        "\n",
        "testset = datasets.CIFAR10(root='./data', train=False, download=True, transform=transform)\n",
        "testloader = DataLoader(testset, batch_size=batch_size, shuffle=False, num_workers=2)"
      ]
    },
    {
      "cell_type": "markdown",
      "metadata": {
        "id": "cYvmubYenlTF"
      },
      "source": [
        "Let's look at some statistics on the training and test set."
      ]
    },
    {
      "cell_type": "code",
      "execution_count": null,
      "metadata": {
        "colab": {
          "base_uri": "https://localhost:8080/"
        },
        "id": "VEPq5zUvnlTF",
        "outputId": "1d3b01e0-479a-4e30-9b18-408f39586556"
      },
      "outputs": [
        {
          "output_type": "stream",
          "name": "stdout",
          "text": [
            "The size of the training set is 50000 images\n",
            "The size of the test set is 10000 images\n"
          ]
        }
      ],
      "source": [
        "print(f\"The size of the training set is {len(trainset)} images\")\n",
        "print(f\"The size of the test set is {len(testset)} images\")"
      ]
    },
    {
      "cell_type": "markdown",
      "metadata": {
        "id": "AcKpnsUUnlTF"
      },
      "source": [
        "Let's look at the loaders."
      ]
    },
    {
      "cell_type": "code",
      "execution_count": null,
      "metadata": {
        "colab": {
          "base_uri": "https://localhost:8080/"
        },
        "id": "h8CTJRa_nlTF",
        "outputId": "aff075cc-8512-465c-b543-417313d70453"
      },
      "outputs": [
        {
          "output_type": "stream",
          "name": "stdout",
          "text": [
            "The size of trainloader is  1000\n",
            "The size of testloader is  200\n"
          ]
        }
      ],
      "source": [
        "print(\"The size of trainloader is \", len(trainloader))\n",
        "print(\"The size of testloader is \", len(testloader))"
      ]
    },
    {
      "cell_type": "markdown",
      "metadata": {
        "id": "Id6LSNfVnlTF"
      },
      "source": [
        "### Question: Why is trainloader and testloader smaller than trainset and testset?"
      ]
    },
    {
      "cell_type": "markdown",
      "metadata": {
        "id": "kqTVNqD_nlTF"
      },
      "source": [
        "When we use batch_size of 4, I will get following result.\n",
        "\n",
        "The size of the training set is 50000 images\n",
        "\n",
        "The size of the test set is 10000 images\n",
        "\n",
        "The size of trainloader is  12500\n",
        "\n",
        "The size of testloader is  2500\n",
        "\n",
        "As we set the batch_size to be 4, we get trainloader and testloader which is $\\frac{\\text{50000 images}}{4} = 12500$ and\n",
        "$\\frac{\\text{10000 images}}{4} = 2500$.\n",
        "\n",
        "This doesn't mean that the datasize is actually smaller. This just means that each batch have 4 images.\n"
      ]
    },
    {
      "cell_type": "markdown",
      "metadata": {
        "id": "aOxSQ4rBnlTF"
      },
      "source": [
        "## Define the Model"
      ]
    },
    {
      "cell_type": "code",
      "execution_count": null,
      "metadata": {
        "id": "6cgeKKT-nlTG"
      },
      "outputs": [],
      "source": [
        "# Define the model architecture\n",
        "class Net(nn.Module):\n",
        "    def __init__(self):\n",
        "        \"\"\"Initialize the neural network layers we want to use in our model's\n",
        "        forward pass.\"\"\"\n",
        "        super(Net, self).__init__()\n",
        "\n",
        "        ### BEGIN SOLUTION\n",
        "        # https://pytorch.org/docs/stable/generated/torch.nn.Dropout.html\n",
        "        self.conv1 = nn.Conv2d(3, 16, 3, padding=1)\n",
        "        self.conv2 = nn.Conv2d(16, 32, 3, padding=1)\n",
        "        self.conv3 = nn.Conv2d(32, 64, 3, padding=1)\n",
        "        self.pool = nn.MaxPool2d(2, 2)\n",
        "        self.drop1 = nn.Dropout(p=0.1)\n",
        "        self.fc1 = nn.Linear(64 * 4 * 4, 120)\n",
        "        self.fc2 = nn.Linear(120, 10)    # we have to end with 10 outputs because we have 10 classes\n",
        "        ### END SOLUTION\n",
        "\n",
        "    def forward(self, x):\n",
        "        ### BEGIN SOLUTION\n",
        "        x = F.relu(self.conv1(x))\n",
        "        x = self.pool(x)\n",
        "        x = self.drop1(x)\n",
        "        x = F.relu(self.conv2(x))\n",
        "        x = self.pool(x)\n",
        "        x = self.drop1(x)\n",
        "        x = F.relu(self.conv3(x))\n",
        "        x = self.pool(x)\n",
        "        x = self.drop1(x)\n",
        "        # print(x.size()) # get size for view\n",
        "        x = x.view(-1, 64 * 4 * 4)\n",
        "        x = F.relu(self.fc1(x))\n",
        "        x = self.drop1(x)\n",
        "        x = self.fc2(x)\n",
        "        ### END SOLUTION\n",
        "        return x"
      ]
    },
    {
      "cell_type": "code",
      "execution_count": null,
      "metadata": {
        "colab": {
          "base_uri": "https://localhost:8080/"
        },
        "id": "IKow7RUdnlTG",
        "outputId": "affa48a5-8ee5-4d40-beb9-ba8c09de0adf"
      },
      "outputs": [
        {
          "output_type": "stream",
          "name": "stdout",
          "text": [
            "Net(\n",
            "  (conv1): Conv2d(3, 16, kernel_size=(3, 3), stride=(1, 1), padding=(1, 1))\n",
            "  (conv2): Conv2d(16, 32, kernel_size=(3, 3), stride=(1, 1), padding=(1, 1))\n",
            "  (conv3): Conv2d(32, 64, kernel_size=(3, 3), stride=(1, 1), padding=(1, 1))\n",
            "  (pool): MaxPool2d(kernel_size=2, stride=2, padding=0, dilation=1, ceil_mode=False)\n",
            "  (drop1): Dropout(p=0.1, inplace=False)\n",
            "  (fc1): Linear(in_features=1024, out_features=120, bias=True)\n",
            "  (fc2): Linear(in_features=120, out_features=10, bias=True)\n",
            ")\n",
            "==========================================================================================\n",
            "Layer (type:depth-idx)                   Output Shape              Param #\n",
            "==========================================================================================\n",
            "Net                                      [50, 10]                  --\n",
            "├─Conv2d: 1-1                            [50, 16, 32, 32]          448\n",
            "├─MaxPool2d: 1-2                         [50, 16, 16, 16]          --\n",
            "├─Dropout: 1-3                           [50, 16, 16, 16]          --\n",
            "├─Conv2d: 1-4                            [50, 32, 16, 16]          4,640\n",
            "├─MaxPool2d: 1-5                         [50, 32, 8, 8]            --\n",
            "├─Dropout: 1-6                           [50, 32, 8, 8]            --\n",
            "├─Conv2d: 1-7                            [50, 64, 8, 8]            18,496\n",
            "├─MaxPool2d: 1-8                         [50, 64, 4, 4]            --\n",
            "├─Dropout: 1-9                           [50, 64, 4, 4]            --\n",
            "├─Linear: 1-10                           [50, 120]                 123,000\n",
            "├─Dropout: 1-11                          [50, 120]                 --\n",
            "├─Linear: 1-12                           [50, 10]                  1,210\n",
            "==========================================================================================\n",
            "Total params: 147,794\n",
            "Trainable params: 147,794\n",
            "Non-trainable params: 0\n",
            "Total mult-adds (M): 147.73\n",
            "==========================================================================================\n",
            "Input size (MB): 0.61\n",
            "Forward/backward pass size (MB): 11.52\n",
            "Params size (MB): 0.59\n",
            "Estimated Total Size (MB): 12.73\n",
            "==========================================================================================\n"
          ]
        }
      ],
      "source": [
        "# Initialize the model\n",
        "net = Net()\n",
        "print(net)\n",
        "\n",
        "print(summary(net, input_size=(batch_size, 3, 32, 32)))\n"
      ]
    },
    {
      "cell_type": "code",
      "execution_count": null,
      "metadata": {
        "id": "De7NbiYynlTG"
      },
      "outputs": [],
      "source": [
        "# Define a Loss function and optimizer\n",
        "criterion = nn.CrossEntropyLoss()\n",
        "\n",
        "### BEGIN SOLUTION\n",
        "optimizer = optim.SGD(net.parameters(), lr=0.01, momentum=0.9)\n",
        "### END SOLUTION"
      ]
    },
    {
      "cell_type": "markdown",
      "metadata": {
        "id": "fslU9iFUnlTG"
      },
      "source": [
        "## Train the Model"
      ]
    },
    {
      "cell_type": "code",
      "execution_count": null,
      "metadata": {
        "colab": {
          "base_uri": "https://localhost:8080/"
        },
        "id": "zkWoBtwynlTG",
        "outputId": "0c657463-6ed8-432f-d6ff-6d7588c5145a"
      },
      "outputs": [
        {
          "output_type": "stream",
          "name": "stdout",
          "text": [
            "[1,   100] loss: 2.295\n",
            "[1,   200] loss: 2.174\n",
            "[1,   300] loss: 1.986\n",
            "[1,   400] loss: 1.793\n",
            "[1,   500] loss: 1.680\n",
            "[1,   600] loss: 1.639\n",
            "[1,   700] loss: 1.567\n",
            "[1,   800] loss: 1.518\n",
            "[1,   900] loss: 1.506\n",
            "[1,  1000] loss: 1.423\n",
            "Epoch 1 took 58.39662718772888 seconds\n",
            "[2,   100] loss: 1.380\n",
            "[2,   200] loss: 1.357\n",
            "[2,   300] loss: 1.335\n",
            "[2,   400] loss: 1.303\n",
            "[2,   500] loss: 1.271\n",
            "[2,   600] loss: 1.288\n",
            "[2,   700] loss: 1.240\n",
            "[2,   800] loss: 1.209\n",
            "[2,   900] loss: 1.206\n",
            "[2,  1000] loss: 1.211\n",
            "Epoch 2 took 56.8829619884491 seconds\n",
            "[3,   100] loss: 1.122\n",
            "[3,   200] loss: 1.140\n",
            "[3,   300] loss: 1.132\n",
            "[3,   400] loss: 1.107\n",
            "[3,   500] loss: 1.100\n",
            "[3,   600] loss: 1.089\n",
            "[3,   700] loss: 1.054\n",
            "[3,   800] loss: 1.034\n",
            "[3,   900] loss: 1.052\n",
            "[3,  1000] loss: 1.015\n",
            "Epoch 3 took 55.79341530799866 seconds\n",
            "[4,   100] loss: 0.999\n",
            "[4,   200] loss: 0.972\n",
            "[4,   300] loss: 0.969\n",
            "[4,   400] loss: 0.973\n",
            "[4,   500] loss: 0.957\n",
            "[4,   600] loss: 0.975\n",
            "[4,   700] loss: 0.957\n",
            "[4,   800] loss: 0.919\n",
            "[4,   900] loss: 0.960\n",
            "[4,  1000] loss: 0.953\n",
            "Epoch 4 took 58.184356689453125 seconds\n",
            "[5,   100] loss: 0.878\n",
            "[5,   200] loss: 0.905\n",
            "[5,   300] loss: 0.865\n",
            "[5,   400] loss: 0.879\n",
            "[5,   500] loss: 0.876\n",
            "[5,   600] loss: 0.905\n",
            "[5,   700] loss: 0.880\n",
            "[5,   800] loss: 0.877\n",
            "[5,   900] loss: 0.834\n",
            "[5,  1000] loss: 0.870\n",
            "Epoch 5 took 55.76779508590698 seconds\n",
            "[6,   100] loss: 0.819\n",
            "[6,   200] loss: 0.789\n",
            "[6,   300] loss: 0.852\n",
            "[6,   400] loss: 0.819\n",
            "[6,   500] loss: 0.833\n",
            "[6,   600] loss: 0.791\n",
            "[6,   700] loss: 0.856\n",
            "[6,   800] loss: 0.832\n",
            "[6,   900] loss: 0.810\n",
            "[6,  1000] loss: 0.809\n",
            "Epoch 6 took 55.950998067855835 seconds\n",
            "[7,   100] loss: 0.747\n",
            "[7,   200] loss: 0.766\n",
            "[7,   300] loss: 0.768\n",
            "[7,   400] loss: 0.777\n",
            "[7,   500] loss: 0.791\n",
            "[7,   600] loss: 0.766\n",
            "[7,   700] loss: 0.752\n",
            "[7,   800] loss: 0.769\n",
            "[7,   900] loss: 0.752\n",
            "[7,  1000] loss: 0.775\n",
            "Epoch 7 took 57.70824456214905 seconds\n",
            "[8,   100] loss: 0.702\n",
            "[8,   200] loss: 0.705\n",
            "[8,   300] loss: 0.735\n",
            "[8,   400] loss: 0.716\n",
            "[8,   500] loss: 0.746\n",
            "[8,   600] loss: 0.710\n",
            "[8,   700] loss: 0.753\n",
            "[8,   800] loss: 0.744\n",
            "[8,   900] loss: 0.745\n",
            "[8,  1000] loss: 0.763\n",
            "Epoch 8 took 54.91910910606384 seconds\n",
            "[9,   100] loss: 0.668\n",
            "[9,   200] loss: 0.686\n",
            "[9,   300] loss: 0.696\n",
            "[9,   400] loss: 0.713\n",
            "[9,   500] loss: 0.723\n",
            "[9,   600] loss: 0.726\n",
            "[9,   700] loss: 0.688\n",
            "[9,   800] loss: 0.699\n",
            "[9,   900] loss: 0.672\n",
            "[9,  1000] loss: 0.703\n",
            "Epoch 9 took 56.05135893821716 seconds\n",
            "[10,   100] loss: 0.651\n",
            "[10,   200] loss: 0.661\n",
            "[10,   300] loss: 0.661\n",
            "[10,   400] loss: 0.687\n",
            "[10,   500] loss: 0.659\n",
            "[10,   600] loss: 0.703\n",
            "[10,   700] loss: 0.675\n",
            "[10,   800] loss: 0.665\n",
            "[10,   900] loss: 0.667\n",
            "[10,  1000] loss: 0.694\n",
            "Epoch 10 took 56.21848773956299 seconds\n",
            "[11,   100] loss: 0.648\n",
            "[11,   200] loss: 0.623\n",
            "[11,   300] loss: 0.636\n",
            "[11,   400] loss: 0.650\n",
            "[11,   500] loss: 0.659\n",
            "[11,   600] loss: 0.642\n",
            "[11,   700] loss: 0.634\n",
            "[11,   800] loss: 0.672\n",
            "[11,   900] loss: 0.641\n",
            "[11,  1000] loss: 0.673\n",
            "Epoch 11 took 56.143940925598145 seconds\n",
            "Finished Training with training loss of  0.6731349402666091\n"
          ]
        }
      ],
      "source": [
        "import time\n",
        "\n",
        "# Initialize a list to hold the losses\n",
        "losses = []\n",
        "\n",
        "# Calculate number of batches to process to report 10 times per epoch\n",
        "len_trainloader = len(trainloader)\n",
        "report_every = len_trainloader // 10\n",
        "\n",
        "### BEGIN SOLUTION\n",
        "epochs = 11\n",
        "### END SOLUTION\n",
        "\n",
        "# Train the network\n",
        "for epoch in range(epochs):  # loop over the dataset multiple times\n",
        "\n",
        "    start_time = time.time()\n",
        "\n",
        "    running_loss = 0.0\n",
        "\n",
        "    for i, data in enumerate(trainloader, 0):\n",
        "        # get the inputs; data is a list of [inputs, labels]\n",
        "        inputs, labels = data\n",
        "\n",
        "        # zero the parameter gradients\n",
        "        optimizer.zero_grad()\n",
        "\n",
        "        # forward + backward + optimize\n",
        "        outputs = net(inputs)\n",
        "        loss = criterion(outputs, labels)\n",
        "        loss.backward()\n",
        "        optimizer.step()\n",
        "\n",
        "        # record the loss\n",
        "        # losses.append(loss.item())\n",
        "\n",
        "        # print statistics\n",
        "        running_loss += loss.item()\n",
        "        if i % report_every == report_every - 1:\n",
        "            print('[%d, %5d] loss: %.3f' % (epoch + 1, i + 1, running_loss / report_every))\n",
        "\n",
        "            losses.append(running_loss / report_every)\n",
        "            running_loss = 0.0\n",
        "\n",
        "    end_time = time.time()\n",
        "    print('Epoch {} took {} seconds'.format(epoch+1, end_time - start_time))\n",
        "\n",
        "print('Finished Training with training loss of ', losses[-1])"
      ]
    },
    {
      "cell_type": "code",
      "execution_count": null,
      "metadata": {
        "id": "bA44MfXbnlTG",
        "colab": {
          "base_uri": "https://localhost:8080/",
          "height": 472
        },
        "outputId": "959871f9-e183-4d51-a952-f855b0a8349b"
      },
      "outputs": [
        {
          "output_type": "display_data",
          "data": {
            "text/plain": [
              "<Figure size 640x480 with 1 Axes>"
            ],
            "image/png": "[encoded data removed]"
          },
          "metadata": {}
        }
      ],
      "source": [
        "# Plot the training loss\n",
        "plt.plot(losses)\n",
        "plt.title('Training Loss')\n",
        "plt.xlabel('Batch # / 2000')\n",
        "plt.ylabel('Loss')\n",
        "plt.show()"
      ]
    },
    {
      "cell_type": "code",
      "execution_count": null,
      "metadata": {
        "id": "8R5T7gVanlTG",
        "colab": {
          "base_uri": "https://localhost:8080/"
        },
        "outputId": "34341b20-34a7-4f90-917c-5ab03895a42d"
      },
      "outputs": [
        {
          "output_type": "stream",
          "name": "stdout",
          "text": [
            "Accuracy of the network on the training images: 78 %\n",
            "Average training loss: 0.600\n"
          ]
        }
      ],
      "source": [
        "# Evaluate accuracy on the training data\n",
        "correct = 0\n",
        "total = 0\n",
        "train_loss = 0\n",
        "\n",
        "with torch.no_grad():\n",
        "    for data in trainloader:\n",
        "        images, labels = data\n",
        "\n",
        "        outputs = net(images)\n",
        "\n",
        "        loss = criterion(outputs, labels)\n",
        "        train_loss += loss.item()\n",
        "\n",
        "        _, predicted = torch.max(outputs.data, 1)\n",
        "        total += labels.size(0)\n",
        "        correct += (predicted == labels).sum().item()\n",
        "\n",
        "accuracy = correct / total * 100\n",
        "\n",
        "# Calculate average test loss\n",
        "avg_train_loss = train_loss / len(trainloader)\n",
        "\n",
        "print('Accuracy of the network on the training images: %d %%' % (accuracy))\n",
        "print('Average training loss: %.3f' % (avg_train_loss))"
      ]
    },
    {
      "cell_type": "markdown",
      "metadata": {
        "id": "2Kigg6RXnlTG"
      },
      "source": [
        "## Evaluate the Model"
      ]
    },
    {
      "cell_type": "code",
      "execution_count": null,
      "metadata": {
        "id": "GdE0w932nlTG"
      },
      "outputs": [],
      "source": [
        "# We'll set the baseline accuracy we want for this exercise.\n",
        "baseline_accuracy = 60.0"
      ]
    },
    {
      "cell_type": "code",
      "execution_count": null,
      "metadata": {
        "id": "MBqen9FXnlTH",
        "colab": {
          "base_uri": "https://localhost:8080/"
        },
        "outputId": "ff4421b2-130d-4dda-a0d3-26aa2e89f69c"
      },
      "outputs": [
        {
          "output_type": "stream",
          "name": "stdout",
          "text": [
            "Accuracy of the network on the 10000 test images: 70 %\n",
            "Average test loss: 0.852\n"
          ]
        }
      ],
      "source": [
        "# Evaluate the network on the test data\n",
        "correct = 0\n",
        "total = 0\n",
        "test_loss = 0\n",
        "\n",
        "with torch.no_grad():\n",
        "    for data in testloader:\n",
        "        images, labels = data\n",
        "\n",
        "        outputs = net(images)\n",
        "\n",
        "        loss = criterion(outputs, labels)\n",
        "        test_loss += loss.item()\n",
        "\n",
        "        _, predicted = torch.max(outputs.data, 1)\n",
        "        total += labels.size(0)\n",
        "        correct += (predicted == labels).sum().item()\n",
        "\n",
        "accuracy = correct / total * 100\n",
        "\n",
        "# Calculate average test loss\n",
        "avg_test_loss = test_loss / len(testloader)\n",
        "\n",
        "print('Accuracy of the network on the 10000 test images: %d %%' % (accuracy))\n",
        "print('Average test loss: %.3f' % (avg_test_loss))"
      ]
    },
    {
      "cell_type": "markdown",
      "metadata": {
        "id": "hKH50HsjnlTH"
      },
      "source": [
        "### Let's see how you did"
      ]
    },
    {
      "cell_type": "code",
      "execution_count": null,
      "metadata": {
        "id": "87Ij_mkfnlTH",
        "colab": {
          "base_uri": "https://localhost:8080/"
        },
        "outputId": "e7315fc5-705c-493b-8f28-d6f76acd463b"
      },
      "outputs": [
        {
          "output_type": "stream",
          "name": "stdout",
          "text": [
            "And did you beat the baseline accuracy of  60.0 ?\n",
            "Yes!!! You beat the baseline accuracy!\n"
          ]
        }
      ],
      "source": [
        "print('And did you beat the baseline accuracy of ', baseline_accuracy, '?')\n",
        "\n",
        "if accuracy > baseline_accuracy:\n",
        "    print('Yes!!! You beat the baseline accuracy!')\n",
        "else:\n",
        "    print('Awww! Try again! You can do it!')\n",
        "\n",
        "# We put an assert here to raise an error if the accuracy is not greater than the baseline accuracy\n",
        "assert accuracy > baseline_accuracy, 'Accuracy did not beat baseline accuracy of {}'.format(baseline_accuracy)"
      ]
    },
    {
      "cell_type": "markdown",
      "metadata": {
        "id": "O1rvDMrknlTH"
      },
      "source": [
        "## Model Evaluation Questions"
      ]
    },
    {
      "cell_type": "markdown",
      "metadata": {
        "id": "XdOTT4OXnlTH"
      },
      "source": [
        "### Question: What was the accuracy of the model as initially defined in the assginment?"
      ]
    },
    {
      "cell_type": "markdown",
      "metadata": {
        "id": "khkdkQCznlTH"
      },
      "source": [
        "46%\n",
        "\n",
        "The experiment 1 below show other parameter and results from the inital model."
      ]
    },
    {
      "cell_type": "markdown",
      "metadata": {
        "id": "gIxcuekLnlTH"
      },
      "source": [
        "### Question: Try running the same model and training hyperparameters multiple times. Does the loss curve and final accuracy differ between runs? Why?"
      ]
    },
    {
      "cell_type": "markdown",
      "metadata": {
        "id": "1wd56ZrbnlTH"
      },
      "source": [
        "Yes they differ. The accuracy was originally 46% but I got sometimes up to 52%. This variation is partly due to the random initialization of the neural network's weights at the start of training. We also use batch and shuffling them. This increases the randomness for each epoch as well."
      ]
    },
    {
      "cell_type": "markdown",
      "metadata": {
        "id": "fYK9fHoRnlTH"
      },
      "source": [
        "## Record Your Experiments Here"
      ]
    },
    {
      "cell_type": "markdown",
      "metadata": {
        "id": "WW8rsLAAnlTH"
      },
      "source": [
        "It is helpful if you track your experiments so you can see what you changed and how it impacted accuracy."
      ]
    },
    {
      "cell_type": "markdown",
      "metadata": {
        "id": "UvO6O98mnlTI"
      },
      "source": [
        "### Experiment 1\n",
        "\n",
        "**Model Definition:**\n",
        "```python\n",
        "```\n",
        "\n",
        "**Hyperparameters:**\n",
        "```python\n",
        "batch size: 4\n",
        "epochs: 2\n",
        "optimizer: SGD\n",
        "learning rate: 0.001\n",
        "momentum:\n",
        "```\n",
        "Training Loss: 1.512   <br>\n",
        "Training Accuracy: 46% <br>\n",
        "\n",
        "Test Loss: 1.512    <br>\n",
        "**Test Accuracy: 46%**\n",
        "\n",
        "\\\\\n",
        "\n",
        "### Experiment 2\n",
        "\n",
        "**Model Definition:**\n",
        "```python\n",
        "```\n",
        "\n",
        "**Hyperparameters:**\n",
        "```python\n",
        "batch size: 25\n",
        "epochs: 5\n",
        "optimizer: Adam\n",
        "learning rate: 0.0001\n",
        "momentum:\n",
        "```\n",
        "Training Loss: 1.249   <br>\n",
        "Training Accuracy: 56% <br>\n",
        "\n",
        "Test Loss: 1.306    <br>\n",
        "**Test Accuracy: 53%**\n",
        "\n",
        "\\\\\n",
        "\n",
        "### Experiment 3\n",
        "\n",
        "**Model Definition:**\n",
        "```python\n",
        "self.conv1 = nn.Conv2d(3, 32, 3)\n",
        "Raised number of filter from 6 to 32. 32 and 64 performed about the same. 16 performed worse.\n",
        "```\n",
        "\n",
        "**Hyperparameters:**\n",
        "```python\n",
        "batch size: 25\n",
        "epochs: 5\n",
        "optimizer: Adam\n",
        "learning rate: 0.0005\n",
        "momentum:\n",
        "```\n",
        "Training Loss: 0.721   <br>\n",
        "Training Accuracy: 75% <br>\n",
        "\n",
        "Test Loss: 0.972    <br>\n",
        "**Test Accuracy: 66%**\n",
        "\n",
        "\\\\\n",
        "\n",
        "### Experiment 4\n",
        "\n",
        "**Model Definition:**\n",
        "```python\n",
        "self.conv1 = nn.Conv2d(3, 16, 3)\n",
        "Lowered number of filter from 32 to 16.\n",
        "```\n",
        "\n",
        "**Hyperparameters:**\n",
        "```python\n",
        "batch size: 100\n",
        "epochs: 11\n",
        "optimizer: SGD\n",
        "learning rate: 0.01\n",
        "momentum: 0.9\n",
        "```\n",
        "Training Loss: 0.112   <br>\n",
        "Training Accuracy: 96% <br>\n",
        "\n",
        "Test Loss: 1.656    <br>\n",
        "**Test Accuracy: 64%**\n",
        "\n",
        "\\\\\n",
        "\n",
        "### Experiment 5\n",
        "\n",
        "**Model Definition:**\n",
        "```python\n",
        "self.conv1 = nn.Conv2d(3, 16, 3, padding=1)\n",
        "self.conv2 = nn.Conv2d(16, 32, 3, padding=1)\n",
        "self.conv3 = nn.Conv2d(32, 64, 3, padding=1)\n",
        "self.fc1 = nn.Linear(64 * 4 * 4, 120)\n",
        "Added two more layers.\n",
        "```\n",
        "\n",
        "**Hyperparameters:**\n",
        "```python\n",
        "batch size: 100\n",
        "epochs: 11\n",
        "optimizer: SGD\n",
        "learning rate: 0.01\n",
        "momentum: 0.9\n",
        "```\n",
        "Training Loss: 0.420   <br>\n",
        "Training Accuracy: 85% <br>\n",
        "\n",
        "Test Loss: 0.871    <br>\n",
        "**Test Accuracy: 72%**\n",
        "\n",
        "\\\\\n",
        "\n",
        "### Experiment 6\n",
        "\n",
        "**Model Definition:**\n",
        "```python\n",
        "self.drop1 = nn.Dropout(p=0.1)\n",
        "self.drop2 = nn.Dropout(p=0.2)\n",
        "Added dropout to lower the overfitting.\n",
        "```\n",
        "\n",
        "**Hyperparameters:**\n",
        "```python\n",
        "batch size: 100\n",
        "epochs: 11\n",
        "optimizer: SGD\n",
        "learning rate: 0.01\n",
        "momentum: 0.9\n",
        "```\n",
        "Training Loss: 0.703   <br>\n",
        "Training Accuracy: 75% <br>\n",
        "\n",
        "Test Loss: 0.878    <br>\n",
        "**Test Accuracy: 69%**\n",
        "\n",
        "\\\\\n",
        "\n",
        "### Experiment 7\n",
        "\n",
        "**Model Definition:**\n",
        "```python\n",
        "Removed drop2 and replaced with drop1.\n",
        "```\n",
        "\n",
        "**Hyperparameters:**\n",
        "```python\n",
        "batch size: 50\n",
        "epochs: 11\n",
        "optimizer: SGD\n",
        "learning rate: 0.01\n",
        "momentum: 0.9\n",
        "```\n",
        "Training Loss: 0.600   <br>\n",
        "Training Accuracy: 78% <br>\n",
        "\n",
        "Test Loss: 0.852    <br>\n",
        "**Test Accuracy: 70%**"
      ]
    }
  ],
  "metadata": {
    "kernelspec": {
      "display_name": "Python 3",
      "name": "python3"
    },
    "language_info": {
      "codemirror_mode": {
        "name": "ipython",
        "version": 3
      },
      "file_extension": ".py",
      "mimetype": "text/x-python",
      "name": "python",
      "nbconvert_exporter": "python",
      "pygments_lexer": "ipython3",
      "version": "3.11.5"
    },
    "colab": {
      "provenance": []
    }
  },
  "nbformat": 4,
  "nbformat_minor": 0
}